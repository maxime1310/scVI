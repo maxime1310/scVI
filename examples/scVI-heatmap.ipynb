{
 "cells": [
  {
   "cell_type": "code",
   "execution_count": 1,
   "metadata": {},
   "outputs": [],
   "source": [
    "import os\n",
    "os.chdir('../')\n",
    "\n",
    "import numpy as np\n",
    "from sklearn.manifold import TSNE\n",
    "import matplotlib.pyplot as plt\n",
    "%matplotlib inline\n",
    "\n",
    "from torch.utils.data import DataLoader\n",
    "from torch.utils.data.sampler import SubsetRandomSampler\n",
    "\n",
    "from scvi.dataset import CortexDataset\n",
    "\n",
    "from scvi.metrics.differential_expression import most_expressed_genes\n",
    "\n",
    "from scvi.models import VAE"
   ]
  },
  {
   "cell_type": "code",
   "execution_count": 2,
   "metadata": {},
   "outputs": [
    {
     "name": "stdout",
     "output_type": "stream",
     "text": [
      "File data/expression.bin already downloaded\n",
      "Preprocessing Cortex data\n",
      "Finished preprocessing Cortex data\n"
     ]
    }
   ],
   "source": [
    "gene_dataset = CortexDataset()"
   ]
  },
  {
   "cell_type": "code",
   "execution_count": 3,
   "metadata": {},
   "outputs": [],
   "source": [
    "n_epochs=500\n",
    "lr=1e-3\n",
    "use_batches=False\n",
    "use_cuda=True\n",
    "example_indices = np.random.permutation(len(gene_dataset))\n",
    "tt_split = int(0.9 * len(gene_dataset))\n",
    "data_loader_train = DataLoader(gene_dataset, batch_size=128, pin_memory=use_cuda,\n",
    "                               sampler=SubsetRandomSampler(example_indices[:tt_split]),\n",
    "                               collate_fn=gene_dataset.collate_fn)\n",
    "data_loader_test = DataLoader(gene_dataset, batch_size=128, pin_memory=use_cuda,\n",
    "                              sampler=SubsetRandomSampler(example_indices[tt_split:]),\n",
    "                              collate_fn=gene_dataset.collate_fn)\n",
    "vae = VAE(gene_dataset.nb_genes, n_batch=gene_dataset.n_batches * use_batches, n_labels=gene_dataset.n_labels,\n",
    "          use_cuda=use_cuda)"
   ]
  },
  {
   "cell_type": "markdown",
   "metadata": {},
   "source": [
    "## Visualize differential expression "
   ]
  },
  {
   "cell_type": "code",
   "execution_count": 5,
   "metadata": {},
   "outputs": [],
   "source": [
    "gene_names, expression = most_expressed_genes(vae, data_loader_train)"
   ]
  },
  {
   "cell_type": "code",
   "execution_count": 10,
   "metadata": {},
   "outputs": [
    {
     "data": {
      "text/plain": [
       "Text(0,0.5,'Most Expressed Genes')"
      ]
     },
     "execution_count": 10,
     "metadata": {},
     "output_type": "execute_result"
    },
    {
     "data": {
      "image/png": "[encoded data removed]",
      "text/plain": [
       "<Figure size 432x288 with 2 Axes>"
      ]
     },
     "metadata": {},
     "output_type": "display_data"
    }
   ],
   "source": [
    "plt.imshow(expression, cmap='hot')\n",
    "plt.colorbar()\n",
    "plt.xlabel('Cell Types')\n",
    "plt.ylabel('Most Expressed Genes')"
   ]
  }
 ],
 "metadata": {
  "kernelspec": {
   "display_name": "Python 3",
   "language": "python",
   "name": "python3"
  },
  "language_info": {
   "codemirror_mode": {
    "name": "ipython",
    "version": 3
   },
   "file_extension": ".py",
   "mimetype": "text/x-python",
   "name": "python",
   "nbconvert_exporter": "python",
   "pygments_lexer": "ipython3",
   "version": "3.6.5"
  }
 },
 "nbformat": 4,
 "nbformat_minor": 2
}
